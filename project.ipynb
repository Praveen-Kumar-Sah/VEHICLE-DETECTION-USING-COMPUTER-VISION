{
 "cells": [
  {
   "cell_type": "code",
   "execution_count": 1,
   "metadata": {},
   "outputs": [],
   "source": [
    "import cv2\n",
    "import numpy as np"
   ]
  },
  {
   "cell_type": "code",
   "execution_count": 2,
   "metadata": {},
   "outputs": [],
   "source": [
    "# Web camera\n",
    "cap = cv2.VideoCapture('video.mp4')"
   ]
  },
  {
   "cell_type": "code",
   "execution_count": 3,
   "metadata": {},
   "outputs": [],
   "source": [
    "#min width reactangle\n",
    "min_width_rect = 80"
   ]
  },
  {
   "cell_type": "code",
   "execution_count": 4,
   "metadata": {},
   "outputs": [],
   "source": [
    "#min height reactangle\n",
    "min_height_rect = 80"
   ]
  },
  {
   "cell_type": "code",
   "execution_count": 5,
   "metadata": {},
   "outputs": [],
   "source": [
    "count_line_position = 550"
   ]
  },
  {
   "cell_type": "code",
   "execution_count": 6,
   "metadata": {},
   "outputs": [],
   "source": [
    "# Initialize Substractor\n",
    "#algo = cv2.bgsegm.createBackgroundSubtractorMOG()\n",
    "#algo = cv2.createBackgroundSubtractorMOG2()\n",
    "algo = cv2.createBackgroundSubtractorKNN()"
   ]
  },
  {
   "cell_type": "code",
   "execution_count": 7,
   "metadata": {},
   "outputs": [],
   "source": [
    "def center_handle(x,y,w,h):\n",
    "    x1 = int(w/2)\n",
    "    y1 = int(h/2)\n",
    "    cx = x+x1\n",
    "    cy = y+y1\n",
    "    return cx,cy"
   ]
  },
  {
   "cell_type": "code",
   "execution_count": 8,
   "metadata": {},
   "outputs": [],
   "source": [
    "detect = []\n",
    "offset = 4 #allowable error between pixel\n",
    "counter = 0"
   ]
  },
  {
   "cell_type": "code",
   "execution_count": 9,
   "metadata": {},
   "outputs": [
    {
     "name": "stdout",
     "output_type": "stream",
     "text": [
      "vehicle counter : 1\n",
      "vehicle counter : 2\n",
      "vehicle counter : 3\n",
      "vehicle counter : 4\n",
      "vehicle counter : 5\n",
      "vehicle counter : 6\n",
      "vehicle counter : 7\n",
      "vehicle counter : 8\n",
      "vehicle counter : 9\n",
      "vehicle counter : 10\n"
     ]
    }
   ],
   "source": [
    "while True:\n",
    "    ret,frame1 = cap.read()\n",
    "    gray = cv2.cvtColor(frame1,cv2.COLOR_BGR2GRAY)\n",
    "    blur = cv2.GaussianBlur(gray,(3,3),5)\n",
    "    #applying on each frame\n",
    "    img_sub = algo.apply(blur)\n",
    "    dilat = cv2.dilate(img_sub,np.ones((5,5)))\n",
    "    kernel = cv2.getStructuringElement(cv2.MORPH_ELLIPSE,(5,5))\n",
    "    dilatada = cv2.morphologyEx(dilat,cv2.MORPH_CLOSE, kernel)\n",
    "    dilatada = cv2.morphologyEx(dilatada,cv2.MORPH_CLOSE, kernel)\n",
    "    counterShape,h = cv2.findContours(dilatada, cv2.RETR_TREE, cv2.CHAIN_APPROX_SIMPLE)\n",
    "\n",
    "    cv2.line(frame1,(25,count_line_position),(1200,count_line_position),(255,127,0),3)\n",
    "\n",
    "    for (i,c) in enumerate(counterShape):\n",
    "        (x,y,w,h) = cv2.boundingRect(c)\n",
    "        validate_counter = (w>= min_width_rect) and (h>= min_height_rect)\n",
    "        if not validate_counter:\n",
    "            continue\n",
    "\n",
    "        cv2.rectangle(frame1,(x,y),(x+w,y+h),(0,255,0),2)\n",
    "        cv2.putText(frame1,\"VEHICLE : \"+str(counter),(x, y-20),cv2.FONT_HERSHEY_TRIPLEX,1,(255,244,0),2)\n",
    "\n",
    "        center = center_handle(x,y,w,h)\n",
    "        detect.append(center)\n",
    "        cv2.circle(frame1,center,4, (0,0,255),-1)\n",
    "\n",
    "        for (x,y) in detect:\n",
    "            if y<(count_line_position+offset) and y>(count_line_position-offset):\n",
    "                counter+=1\n",
    "                cv2.line(frame1,(25,count_line_position),(1200,count_line_position),(0,127,255),3)\n",
    "                detect.remove((x,y))\n",
    "                print(\"vehicle counter : \"+str(counter))\n",
    "\n",
    "\n",
    "    cv2.putText(frame1,\"VEHICLE COUNTER : \"+str(counter),(450,70),cv2.FONT_HERSHEY_SIMPLEX,2,(0,0,255),5)\n",
    "\n",
    "\n",
    "\n",
    "    #cv2.imshow('Detector',dilatada)\n",
    "    cv2.imshow('Video original',frame1)\n",
    "\n",
    "    if cv2.waitKey(10) & 0xFF == ord('q'):\n",
    "        break\n",
    "\n",
    "cv2.destroyAllWindows()\n",
    "cap.release()"
   ]
  },
  {
   "cell_type": "code",
   "execution_count": null,
   "metadata": {},
   "outputs": [],
   "source": [
    "def on_message(client, userdata, msg):\n",
    "        \"\"\"The callback for when a PUBLISH message is received from the server.\"\"\"\n",
    "        sl_no = 0\n",
    "        date_time = time.strftime(\"%Y-%m-%d %H:%M:%S\")\n",
    "        print date_time\n",
    "        dbConn = MySQLdb.connect(\"localhost\", \"database_name\", \"Password\",\"database_name\")\n",
    "        print 'connected'\n",
    "        with dbConn:\n",
    "            cursor = dbConn.cursor()\n",
    "            if msg.topic == \"WHETHER MONITORING\":\n",
    "                print(msg.payload)\n",
    "                payload = json.loads(msg.payload.decode('utf-8'))\n",
    "                temperature = payload['temperature']\n",
    "                humidity = payload['humidity']\n",
    "                cursor.execute('INSERT INTO table_name VLUES (%s,%s,%s)',([sl_no], [date_time], [temperature], [humidity]))\n",
    "                print'connected'\n",
    "            dbConn.comit()\n",
    "            cursor.close()"
   ]
  }
 ],
 "metadata": {
  "interpreter": {
   "hash": "b67d44dce2cdaedea91f61243388de75b66ed8541c6632426f8a241caad3be41"
  },
  "kernelspec": {
   "display_name": "Python 3",
   "language": "python",
   "name": "python3"
  },
  "language_info": {
   "codemirror_mode": {
    "name": "ipython",
    "version": 3
   },
   "file_extension": ".py",
   "mimetype": "text/x-python",
   "name": "python",
   "nbconvert_exporter": "python",
   "pygments_lexer": "ipython3",
   "version": "3.8.5"
  }
 },
 "nbformat": 4,
 "nbformat_minor": 2
}
