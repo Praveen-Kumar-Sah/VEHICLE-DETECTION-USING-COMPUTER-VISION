{
 "cells": [
  {
   "cell_type": "code",
   "execution_count": 44,
   "metadata": {},
   "outputs": [
    {
     "name": "stdout",
     "output_type": "stream",
     "text": [
      "vehicle counter : 1\n",
      "vehicle counter : 2\n",
      "vehicle counter : 3\n",
      "vehicle counter : 4\n"
     ]
    }
   ],
   "source": [
    "# import the libraries\n",
    "import cv2 as cv\n",
    "import numpy as np\n",
    "\n",
    "# read the data\n",
    "cap = cv.VideoCapture('video.mp4')\n",
    "\n",
    "count_line_position = 540\n",
    "\n",
    "# minimum height and width of rectangle\n",
    "min_width_rect = 80\n",
    "min_height_rect = 80\n",
    "\n",
    "# initialize Substract \n",
    "algo = cv.createBackgroundSubtractorKNN()  # use for detect only vehicle no other thrings\n",
    "\n",
    "# for the counting\n",
    "def center_handle(x,y,w,h):\n",
    "    x1 = int(w/2)\n",
    "    y1 = int(h/2)\n",
    "    cx = x+x1\n",
    "    cy = y+y1\n",
    "    return cx,cy\n",
    "\n",
    "detect = []\n",
    "offset = 6 # Allowable error betweeen pixel\n",
    "counter = 0\n",
    "\n",
    "while True:\n",
    "    ret,frame = cap.read() \n",
    "    frame = cv.resize(frame,(1500,900))\n",
    "    gray = cv.cvtColor(frame,cv.COLOR_BGR2GRAY)\n",
    "    blur = cv.GaussianBlur(gray,(3,3),5)\n",
    "    # applying on each frame\n",
    "    img_sub = algo.apply(blur)\n",
    "    dilat = cv.dilate(img_sub,np.ones((5,5)))\n",
    "    kernel = cv.getStructuringElement(cv.MORPH_ELLIPSE,(5,5))\n",
    "    dilatada = cv.morphologyEx(dilat,cv.MORPH_CLOSE,kernel)\n",
    "    dilatada = cv.morphologyEx(dilatada,cv.MORPH_CLOSE,kernel)\n",
    "    counterShape,h = cv.findContours(dilatada,cv.RETR_TREE,cv.CHAIN_APPROX_SIMPLE)\n",
    "    \n",
    "    cv.line(frame,(25,count_line_position),(1300,count_line_position),(255,0,0),3) # draw the line in the video\n",
    "    \n",
    "    for (i,c) in enumerate(counterShape):\n",
    "        (x,y,w,h) = cv.boundingRect(c) \n",
    "        validate_counter = (w >= min_width_rect) and (h >= min_height_rect)\n",
    "        if not validate_counter:\n",
    "            continue\n",
    "            \n",
    "        cv.rectangle(frame,(x,y),(x+w,y+h),(0,255,0),2)\n",
    "        cv.putText(frame,\"VEHICLE\",(x, y-20),cv.FONT_HERSHEY_TRIPLEX,1,(255,125,190),1)\n",
    "\n",
    "        \n",
    "        center = center_handle(x,y,w,h)\n",
    "        detect.append(center)\n",
    "        cv.circle(frame,center,4,(0,0,255),-1)\n",
    "        \n",
    "        for (x,y) in detect:\n",
    "            if y<(count_line_position+offset) and y>(count_line_position-offset):\n",
    "                counter+=1\n",
    "                cv.line(frame,(25,count_line_position),(1300,count_line_position),(0,127,255),3)\n",
    "                detect.remove((x,y))\n",
    "                print(\"vehicle counter : \"+str(counter))\n",
    "\n",
    "\n",
    "    cv.putText(frame,\"VEHICLE COUNTER : \"+str(counter),(450,70),cv.FONT_HERSHEY_SIMPLEX,2,(0,0,255),5)\n",
    "\n",
    "                \n",
    "    \n",
    "#     cv.imshow('DETECTER',dilatada)\n",
    "    cv.imshow('ORIGINAL',frame)\n",
    "    if cv.waitKey(25) == 13:\n",
    "        break\n",
    "        \n",
    "cv.destroyAllWindows()\n",
    "cap.release()"
   ]
  },
  {
   "cell_type": "code",
   "execution_count": null,
   "metadata": {},
   "outputs": [],
   "source": []
  },
  {
   "cell_type": "code",
   "execution_count": null,
   "metadata": {},
   "outputs": [],
   "source": []
  }
 ],
 "metadata": {
  "kernelspec": {
   "display_name": "Python 3",
   "language": "python",
   "name": "python3"
  },
  "language_info": {
   "codemirror_mode": {
    "name": "ipython",
    "version": 3
   },
   "file_extension": ".py",
   "mimetype": "text/x-python",
   "name": "python",
   "nbconvert_exporter": "python",
   "pygments_lexer": "ipython3",
   "version": "3.8.5"
  }
 },
 "nbformat": 4,
 "nbformat_minor": 4
}
